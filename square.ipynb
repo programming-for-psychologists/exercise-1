{
 "cells": [
  {
   "cell_type": "markdown",
   "metadata": {},
   "source": [
    "<sidebar>\n",
    "Psych711\n",
    "\n",
    "</sidebar>\n",
    "Make a square and play with it\n",
    "------------------------------\n",
    "\n",
    "-   Copy the file basic\\_square.py from the common\\\\Exercise\\_1 folder\n",
    "    into the Exercise\\_1 folder in your Box directory\n",
    "\n",
    "<!-- -->"
   ]
  },
  {
   "cell_type": "code",
   "execution_count": null,
   "metadata": {},
   "outputs": [],
   "source": [
    "import time\n",
    "import sys\n",
    "from psychopy import visual,event,core\n",
    " \n",
    "win = visual.Window([400,400],color=\"black\", units='pix')\n",
    "square = visual.Rect(win,lineColor=\"black\",fillColor=\"blue\",size=[100,100])\n",
    "square.draw()\n",
    "win.flip()\n",
    "core.wait(.5) #pause for 500 ms (half a second)\n",
    "sys.exit()"
   ]
  },
  {
   "cell_type": "markdown",
   "metadata": {},
   "source": [
    "Go through each line and understand what it does. Now,\\\n",
    "\\#Make the square appear for 1.5 secs, then for 30 ms\\\n",
    "\\#Make it red\\\n",
    "\\#Show a red square for 1 s, then switch it to blue and show it for 1 s\\\n",
    "\\#Show the following sequence: blue, red, blue, red, blue, red\\\n",
    "\\#Show a red square for 1 s then change its orientation by 45-deg\\\n",
    "\\#Now make a square rotate continuously, one full revolution (360\n",
    "degrees) per second\\\n",
    "\\#Make a rotating square stop rotating when you press the \\'s\\' key\\\n",
    "\\#Make a square stop rotating when you press \\'s\\' and then start\n",
    "rotating again when you press \\'r\\'\\\n",
    "\\#Display a blue square and increase its width by 10 pixels whenever the\n",
    "user presses the left-arrow key. Decrease the width by 10 pixels when\n",
    "the user presses the right-arrow key\\\n",
    "\\#Now make the shape decrease/increase width by 10% with each keypress\n",
    "instead of 10 pixels\\\n",
    "\\#Show two rotating squares simultaneously, one left of center rotating\n",
    "clockwise, the other right of center, rotating counterclockwise\\\n",
    "\\#Do something that\\'s not listed here (e.g., make it a pentagon instead\n",
    "of a square, make the color track the current price of Apple stock,\n",
    "etc.)\\\n",
    "\n",
    "[ Solutions to exercise 1](Exercise_1-solution \"wikilink\")\n",
    "\n",
    "[Category:Exercise](Category:Exercise \"wikilink\")"
   ]
  }
 ],
 "metadata": {},
 "nbformat": 4,
 "nbformat_minor": 2
}
